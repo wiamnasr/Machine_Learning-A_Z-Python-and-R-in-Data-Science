{
 "cells": [
  {
   "cell_type": "code",
   "execution_count": 1,
   "id": "90d7fba1",
   "metadata": {},
   "outputs": [],
   "source": [
    "# Importing the libraries\n",
    "import numpy as np\n",
    "import matplotlib.pyplot as plt\n",
    "import pandas as pd"
   ]
  },
  {
   "cell_type": "code",
   "execution_count": 2,
   "id": "ceea6237",
   "metadata": {},
   "outputs": [
    {
     "name": "stdout",
     "output_type": "stream",
     "text": [
      "   Country   Age   Salary Purchased\n",
      "0   France  44.0  72000.0        No\n",
      "1    Spain  27.0  48000.0       Yes\n",
      "2  Germany  30.0  54000.0        No\n",
      "3    Spain  38.0  61000.0        No\n",
      "4  Germany  40.0      NaN       Yes\n",
      "5   France  35.0  58000.0       Yes\n",
      "6    Spain   NaN  52000.0        No\n",
      "7   France  48.0  79000.0       Yes\n",
      "8  Germany  50.0  83000.0        No\n",
      "9   France  37.0  67000.0       Yes\n"
     ]
    }
   ],
   "source": [
    "# Importing a csv using the pandas library, saving in a 'variable'\n",
    "# function will read the dataset and create a dataframe (the dataset variable)\n",
    "dataset = pd.read_csv('Data.csv')\n",
    "print(dataset)\n",
    "\n",
    "\n",
    "# Creating 2 entities,the first is the matrix of features and the second is the dependent variable vector \n",
    "# In any machine learning model that we'll build, the features usually go in the first columns in the dataset, and the dependent variable in the last\n",
    "# In the dataset example imported from the Data.csv file, our matrix of features includes columns 'Country', 'Age' and 'Salary'\n",
    "# Seperately in the imported example, we want to create the dependent variable vector containing only the last column 'Purchased'\n",
    "# The 'Purchased' column, representing a boolean is the one we want to predict in this example\n",
    "\n",
    "# The Matrix of features\n",
    "# using iloc (locate rows/columns indexes), that located the indexes that we want to extract from the dataset\n",
    "# rows first with iloc, here adding ':' to specify all rows\n",
    "# including all the columns except the last one -> The matrix of features -> ':-1' this will exclude the last column\n",
    "X = dataset.iloc[:, :-1]\n",
    "\n",
    "# The dependent variable vector\n",
    "y\n"
   ]
  },
  {
   "cell_type": "code",
   "execution_count": null,
   "id": "46e1da48",
   "metadata": {},
   "outputs": [],
   "source": []
  }
 ],
 "metadata": {
  "kernelspec": {
   "display_name": "Python 3 (ipykernel)",
   "language": "python",
   "name": "python3"
  },
  "language_info": {
   "codemirror_mode": {
    "name": "ipython",
    "version": 3
   },
   "file_extension": ".py",
   "mimetype": "text/x-python",
   "name": "python",
   "nbconvert_exporter": "python",
   "pygments_lexer": "ipython3",
   "version": "3.9.7"
  }
 },
 "nbformat": 4,
 "nbformat_minor": 5
}
