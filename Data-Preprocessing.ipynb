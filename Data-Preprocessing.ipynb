{
 "cells": [
  {
   "cell_type": "code",
   "execution_count": 1,
   "id": "7028aa64",
   "metadata": {},
   "outputs": [],
   "source": [
    "# Importing the libraries\n",
    "import numpy as np\n",
    "import matplotlib.pyplot as plt\n",
    "import pandas as pd"
   ]
  },
  {
   "cell_type": "code",
   "execution_count": 4,
   "id": "3c1b347e",
   "metadata": {},
   "outputs": [],
   "source": [
    "# Importing a csv using the pandas library, saving in a 'variable'\n",
    "# function will read the dataset and create a dataframe (the dataset variable)\n",
    "dataset = pd.read_csv('Data.csv')\n",
    "# print(dataset)\n",
    "\n",
    "\n",
    "# Creating 2 entities,the first is the matrix of features and the second is the dependent variable vector \n",
    "# In any machine learning model that we'll build, the features usually go in the first columns in the dataset, and the dependent variable in the last\n",
    "# In the dataset example imported from the Data.csv file, our matrix of features includes columns 'Country', 'Age' and 'Salary'\n",
    "# Seperately in the imported example, we want to create the dependent variable vector containing only the last column 'Purchased'\n",
    "# The 'Purchased' column, representing a boolean is the one we want to predict in this example\n",
    "\n",
    "# The Matrix of features\n",
    "# using iloc (locate rows/columns indexes), that located the indexes that we want to extract from the dataset\n",
    "# rows first with iloc, here adding ':' to specify all rows\n",
    "# including all the columns except the last one -> The matrix of features -> ':-1' this will exclude the last column\n",
    "# at the end, using '.values' that indicates that we are taking the values in all the rows and columns of the dataset, except last column\n",
    "X = dataset.iloc[:, :-1].values\n",
    "\n",
    "# The dependent variable vector\n",
    "y = dataset.iloc[:, -1].values # selecting only last column as dependent variable vector\n"
   ]
  },
  {
   "cell_type": "code",
   "execution_count": 5,
   "id": "8ee9db28",
   "metadata": {},
   "outputs": [
    {
     "name": "stdout",
     "output_type": "stream",
     "text": [
      "[['France' 44.0 72000.0]\n",
      " ['Spain' 27.0 48000.0]\n",
      " ['Germany' 30.0 54000.0]\n",
      " ['Spain' 38.0 61000.0]\n",
      " ['Germany' 40.0 nan]\n",
      " ['France' 35.0 58000.0]\n",
      " ['Spain' nan 52000.0]\n",
      " ['France' 48.0 79000.0]\n",
      " ['Germany' 50.0 83000.0]\n",
      " ['France' 37.0 67000.0]]\n"
     ]
    }
   ],
   "source": [
    "# Contains all the features, except the last one that we want to predict\n",
    "print(X)"
   ]
  },
  {
   "cell_type": "code",
   "execution_count": 6,
   "id": "6a36a9c3",
   "metadata": {},
   "outputs": [
    {
     "name": "stdout",
     "output_type": "stream",
     "text": [
      "['No' 'Yes' 'No' 'No' 'Yes' 'Yes' 'No' 'Yes' 'No' 'Yes']\n"
     ]
    }
   ],
   "source": [
    "# Contains all the decisions of whether or not the customer purchased the product\n",
    "print(y)"
   ]
  },
  {
   "cell_type": "code",
   "execution_count": null,
   "id": "a909b89d",
   "metadata": {},
   "outputs": [],
   "source": []
  },
  {
   "cell_type": "code",
   "execution_count": null,
   "id": "cae5ffde",
   "metadata": {},
   "outputs": [],
   "source": []
  },
  {
   "cell_type": "code",
   "execution_count": 7,
   "id": "4eb2e84b",
   "metadata": {},
   "outputs": [
    {
     "name": "stdout",
     "output_type": "stream",
     "text": [
      "[['France' 44.0 72000.0]\n",
      " ['Spain' 27.0 48000.0]\n",
      " ['Germany' 30.0 54000.0]\n",
      " ['Spain' 38.0 61000.0]\n",
      " ['Germany' 40.0 63777.77777777778]\n",
      " ['France' 35.0 58000.0]\n",
      " ['Spain' 38.77777777777778 52000.0]\n",
      " ['France' 48.0 79000.0]\n",
      " ['Germany' 50.0 83000.0]\n",
      " ['France' 37.0 67000.0]]\n"
     ]
    }
   ],
   "source": [
    "# Taking care of missing data -> Causes errors in ML model\n",
    "# One way is to remove them, another is to replace with data average from same feature\n",
    "\n",
    "# sklearn data science library includes a lot of tools, including a lot of data pre-processing tools\n",
    "# will use the class 'simple imputer' from sklearn\n",
    "# Importing the simple imputer class\n",
    "from sklearn.impute import SimpleImputer\n",
    "\n",
    "# Creating an instance(an object) of the simple imputer class, that will allow us to replace the missing salary in the dataset with the average of the salries\n",
    "# This will allow us to have an updated dataset (matrix of features)\n",
    "# Note: Options for replacing missing values other than with Average, can be median, most frequent value (relevant for categories)\n",
    "imputer = SimpleImputer(missing_values=np.nan, strategy='mean')\n",
    "\n",
    "# Applying (connecting) the impute object on the matrix of features\n",
    "# Remember a class contains an assemble of instructions as well as operations and actions that can be applied to other objects called methods\n",
    "# The fit method will connect this imputer to the matrix of features\n",
    "# The fit method will look at the missing values in the salary column and will compute the average of salaries\n",
    "# To do the replacement we call transform method which will apply the transformation by replacing the missing salary with the average of the salaries\n",
    "\n",
    "# The fit method expects all the columns of 'X' with numerical values\n",
    "# As a general rule include all numerical columns, as in huge datasets, it s hard to spot which have missing values\n",
    "imputer.fit(X[:, 1:3]) # fit method will look for all missing values in the age and salary columns\n",
    "\n",
    "# Transform method from imputer object\n",
    "# This will do the actual replacement of missing salary be mean of salaries (same thing for missing age)\n",
    "X[:, 1:3] = imputer.transform(X[:, 1:3]) # this returns the new updated version of the matrix of features 'X' with the replacements of the missing salary and age for that we are directly replacing them\n",
    "\n",
    "print(X)"
   ]
  },
  {
   "cell_type": "code",
   "execution_count": null,
   "id": "facdfc02",
   "metadata": {},
   "outputs": [],
   "source": []
  }
 ],
 "metadata": {
  "kernelspec": {
   "display_name": "Python 3 (ipykernel)",
   "language": "python",
   "name": "python3"
  },
  "language_info": {
   "codemirror_mode": {
    "name": "ipython",
    "version": 3
   },
   "file_extension": ".py",
   "mimetype": "text/x-python",
   "name": "python",
   "nbconvert_exporter": "python",
   "pygments_lexer": "ipython3",
   "version": "3.9.7"
  }
 },
 "nbformat": 4,
 "nbformat_minor": 5
}
