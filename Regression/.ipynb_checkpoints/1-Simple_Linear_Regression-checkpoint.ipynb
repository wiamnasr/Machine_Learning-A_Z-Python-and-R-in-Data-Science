{
 "cells": [
  {
   "cell_type": "markdown",
   "id": "9afc0777",
   "metadata": {},
   "source": [
    "# Simple Linear Regression\n",
    "\n",
    "###    y = b0 + b1*x1\n",
    "\n",
    "### The above formula from school is a sloped line formula (Trend line)\n",
    "\n",
    "    - y: dependent variable (DV)-> something we are trying to explain/understand (e.g. how does a person's salary change with the years of experience that they have)\n",
    "    \n",
    "    - x: independent variable (IV). In the case of simple linear regression we only have one independent variable -> This is the variable that we are assuming is causing the dependent variable to change -> sometimes it might not be a direct causing factor, but still there might be an implied association between the two\n",
    "    \n",
    "    - b1: Coefficient for the independent variable -> this explains how a unit change in x1 affects a unit change in y -> helps to think of it as the translator/multiplier that connects the 2 (y and x1) -> slope of the linel\n",
    "    \n",
    "        - b0: the Constant term -> The point where the line crosses the vertical axes\n",
    "    \n",
    "    \n",
    "### Linear regression uses obsevations that we have to find the best fitting line (trend line)\n",
    "\n",
    "\n",
    "## Simple Linear Regression Intuition:\n",
    "\n",
    "                \n"
   ]
  },
  {
   "cell_type": "code",
   "execution_count": null,
   "id": "60f48d4c",
   "metadata": {},
   "outputs": [],
   "source": []
  },
  {
   "cell_type": "code",
   "execution_count": null,
   "id": "060b4749",
   "metadata": {},
   "outputs": [],
   "source": []
  },
  {
   "cell_type": "code",
   "execution_count": null,
   "id": "a23a1761",
   "metadata": {},
   "outputs": [],
   "source": []
  },
  {
   "cell_type": "code",
   "execution_count": null,
   "id": "0b8ef390",
   "metadata": {},
   "outputs": [],
   "source": []
  },
  {
   "cell_type": "code",
   "execution_count": null,
   "id": "06952849",
   "metadata": {},
   "outputs": [],
   "source": []
  }
 ],
 "metadata": {
  "kernelspec": {
   "display_name": "Python 3 (ipykernel)",
   "language": "python",
   "name": "python3"
  },
  "language_info": {
   "codemirror_mode": {
    "name": "ipython",
    "version": 3
   },
   "file_extension": ".py",
   "mimetype": "text/x-python",
   "name": "python",
   "nbconvert_exporter": "python",
   "pygments_lexer": "ipython3",
   "version": "3.9.7"
  }
 },
 "nbformat": 4,
 "nbformat_minor": 5
}
