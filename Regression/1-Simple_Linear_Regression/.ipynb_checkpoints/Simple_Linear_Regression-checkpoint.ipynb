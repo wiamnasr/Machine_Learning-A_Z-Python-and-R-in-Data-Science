{
 "cells": [
  {
   "cell_type": "markdown",
   "id": "9afc0777",
   "metadata": {},
   "source": [
    "# Simple Linear Regression\n",
    "\n",
    "###    y = b0 + b1*x1\n",
    "\n",
    "### The above formula from school is a sloped line formula (Trend line)\n",
    "\n",
    "    - y: dependent variable (DV)-> something we are trying to explain/understand (e.g. how does a person's salary change with the years of experience that they have)\n",
    "    \n",
    "    - x: independent variable (IV). In the case of simple linear regression we only have one independent variable -> This is the variable that we are assuming is causing the dependent variable to change -> sometimes it might not be a direct causing factor, but still there might be an implied association between the two\n",
    "    \n",
    "    - b1: Coefficient for the independent variable -> this explains how a unit change in x1 affects a unit change in y -> helps to think of it as the translator/multiplier that connects the 2 (y and x1) -> slope of the linel\n",
    "    \n",
    "        - b0: the Constant term -> The point where the line crosses the vertical axes\n",
    "    \n",
    "    \n",
    "### Linear regression uses obsevations that we have to find the best fitting line (trend line)\n",
    "\n",
    "\n",
    "## Simple Linear Regression Intuition:\n",
    "\n",
    "                \n"
   ]
  },
  {
   "cell_type": "code",
   "execution_count": null,
   "id": "60f48d4c",
   "metadata": {},
   "outputs": [],
   "source": []
  },
  {
   "cell_type": "markdown",
   "id": "ac59ce06",
   "metadata": {},
   "source": [
    "> We have a simple dataset, with not that many observations (30) as an e.g. to focus on building the model itself\n",
    "\n",
    "> The dataset has one feature (years of experience) and a dependent variable that we want to predict (salary)\n",
    "\n",
    "> Each row of the dataset corresponds to a different employee\n",
    "\n",
    "> The goal is to build a simple linear regression model that will be trained to understand the correlations between the number of years of experience and the salary\n",
    "\n",
    "> This will allow prediction for a new employee with new number of years as experience, their corresponding salary\n",
    "\n",
    "> The code template can be adapted to any other dataset when working with simple linear regression"
   ]
  },
  {
   "cell_type": "code",
   "execution_count": 1,
   "id": "a23a1761",
   "metadata": {},
   "outputs": [
    {
     "ename": "SyntaxError",
     "evalue": "invalid syntax (3424728744.py, line 8)",
     "output_type": "error",
     "traceback": [
      "\u001b[0;36m  File \u001b[0;32m\"/tmp/ipykernel_905967/3424728744.py\"\u001b[0;36m, line \u001b[0;32m8\u001b[0m\n\u001b[0;31m    X = dataset.iloc(:, :-1).values\u001b[0m\n\u001b[0m                     ^\u001b[0m\n\u001b[0;31mSyntaxError\u001b[0m\u001b[0;31m:\u001b[0m invalid syntax\n"
     ]
    }
   ],
   "source": [
    "# Importing the libraries\n",
    "import numpy as np\n",
    "import matplotlib.pyplot as plt\n",
    "import pandas as pd\n",
    "\n",
    "# Importing dataset\n",
    "dataset = pd.read_csv('Salary_Data.csv')\n",
    "X = dataset.iloc(:, :-1).values\n",
    "y = dataset.iloc(:, -1).values\n",
    "\n",
    "# Splitting dataset into training and test set\n",
    "from sklearn.model_selection import train_test_split\n",
    "X_train, X_test, y_train, y_test = train_test_split(X, y, test_size=1/3, random_state=0)\n",
    "\n",
    "# Taining the simple linear regression model on the training set\n",
    "from sklearn.linear_model import LinearRegression\n",
    "regressor = LinearRegression()\n",
    "regressor.fit(X_train, y_train)\n",
    "\n",
    "# Predicting the test set results\n",
    "y_pred = regressor.predict(X_test)"
   ]
  },
  {
   "cell_type": "code",
   "execution_count": null,
   "id": "0b8ef390",
   "metadata": {},
   "outputs": [],
   "source": []
  },
  {
   "cell_type": "code",
   "execution_count": null,
   "id": "06952849",
   "metadata": {},
   "outputs": [],
   "source": []
  }
 ],
 "metadata": {
  "kernelspec": {
   "display_name": "Python 3 (ipykernel)",
   "language": "python",
   "name": "python3"
  },
  "language_info": {
   "codemirror_mode": {
    "name": "ipython",
    "version": 3
   },
   "file_extension": ".py",
   "mimetype": "text/x-python",
   "name": "python",
   "nbconvert_exporter": "python",
   "pygments_lexer": "ipython3",
   "version": "3.9.7"
  }
 },
 "nbformat": 4,
 "nbformat_minor": 5
}
